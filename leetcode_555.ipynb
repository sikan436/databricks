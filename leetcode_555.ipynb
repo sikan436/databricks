{
 "cells": [
  {
   "cell_type": "code",
   "execution_count": 0,
   "metadata": {
    "application/vnd.databricks.v1+cell": {
     "cellMetadata": {
      "byteLimit": 2048000,
      "rowLimit": 10000
     },
     "inputWidgets": {},
     "nuid": "19f2c900-ed24-4e0a-b131-e1fba2be8e20",
     "showTitle": false,
     "tableResultSettingsMap": {},
     "title": ""
    }
   },
   "outputs": [
    {
     "output_type": "stream",
     "name": "stdout",
     "output_type": "stream",
     "text": [
      "+---------+-----------+\n|player_id|player_name|\n+---------+-----------+\n|        1|      Nadal|\n|        2|    Federer|\n|        3|      Novak|\n+---------+-----------+\n\n"
     ]
    }
   ],
   "source": [
    "data1=[(1,'Nadal'),(2,'Federer'),(3,'Novak')]\n",
    "schema1=['player_id','player_name']\n",
    "\n",
    "df_player=spark.createDataFrame(data1,schema1)\n",
    "df_player.show()"
   ]
  },
  {
   "cell_type": "code",
   "execution_count": 0,
   "metadata": {
    "application/vnd.databricks.v1+cell": {
     "cellMetadata": {
      "byteLimit": 2048000,
      "rowLimit": 10000
     },
     "inputWidgets": {},
     "nuid": "505af255-d994-4a67-948c-f7e1003fdad5",
     "showTitle": false,
     "tableResultSettingsMap": {},
     "title": ""
    }
   },
   "outputs": [
    {
     "output_type": "stream",
     "name": "stdout",
     "output_type": "stream",
     "text": [
      "+----+---------+-------+-------+-------+\n|year|wimbledon|fr_open|us_open|au_open|\n+----+---------+-------+-------+-------+\n|2017|        2|      1|      1|      2|\n|2018|        3|      1|      3|      2|\n|2019|        3|      1|      1|      3|\n+----+---------+-------+-------+-------+\n\n"
     ]
    }
   ],
   "source": [
    "data2=[(2017,2,1,1,2),\n",
    "       (2018,3,1,3,2),\n",
    "       (2019,3,1,1,3)]\n",
    "\n",
    "schema2=['year','wimbledon','fr_open','us_open','au_open']\n",
    "\n",
    "\n",
    "df_tournament=spark.createDataFrame(data2,schema2)\n",
    "df_tournament.show()\n",
    "\n",
    "\n",
    "    "
   ]
  },
  {
   "cell_type": "code",
   "execution_count": 0,
   "metadata": {
    "application/vnd.databricks.v1+cell": {
     "cellMetadata": {
      "byteLimit": 2048000,
      "rowLimit": 10000
     },
     "inputWidgets": {},
     "nuid": "87dd5801-447c-4890-94b6-d37055846999",
     "showTitle": false,
     "tableResultSettingsMap": {},
     "title": ""
    }
   },
   "outputs": [],
   "source": [
    "from pyspark.sql.functions import *"
   ]
  },
  {
   "cell_type": "code",
   "execution_count": 0,
   "metadata": {
    "application/vnd.databricks.v1+cell": {
     "cellMetadata": {
      "byteLimit": 2048000,
      "rowLimit": 10000
     },
     "inputWidgets": {},
     "nuid": "859d156b-c1c3-4336-8057-8bb790ef756f",
     "showTitle": false,
     "tableResultSettingsMap": {},
     "title": ""
    }
   },
   "outputs": [],
   "source": [
    "df_match_result=df_tournament.select(col('wimbledon').alias('total_match')).union((df_tournament.select('fr_open'))).union((df_tournament.select('us_open'))).union((df_tournament.select('au_open'))).groupBy('total_match').agg(count('total_match').alias('match_won'))"
   ]
  },
  {
   "cell_type": "code",
   "execution_count": 0,
   "metadata": {
    "application/vnd.databricks.v1+cell": {
     "cellMetadata": {
      "byteLimit": 2048000,
      "rowLimit": 10000
     },
     "inputWidgets": {},
     "nuid": "853d9af8-b96b-4c77-8581-a4661aba48bb",
     "showTitle": false,
     "tableResultSettingsMap": {},
     "title": ""
    }
   },
   "outputs": [
    {
     "output_type": "stream",
     "name": "stdout",
     "output_type": "stream",
     "text": [
      "+-----------+---------+\n|total_match|match_won|\n+-----------+---------+\n|          2|        3|\n|          3|        4|\n|          1|        5|\n+-----------+---------+\n\n"
     ]
    }
   ],
   "source": [
    "df_match_result.show()"
   ]
  },
  {
   "cell_type": "code",
   "execution_count": 0,
   "metadata": {
    "application/vnd.databricks.v1+cell": {
     "cellMetadata": {
      "byteLimit": 2048000,
      "rowLimit": 10000
     },
     "inputWidgets": {},
     "nuid": "63144e7a-c19c-4871-8401-eef3f01c5a28",
     "showTitle": false,
     "tableResultSettingsMap": {},
     "title": ""
    }
   },
   "outputs": [
    {
     "output_type": "stream",
     "name": "stdout",
     "output_type": "stream",
     "text": [
      "+---------+-----------+\n|player_id|player_name|\n+---------+-----------+\n|        1|      Nadal|\n|        2|    Federer|\n|        3|      Novak|\n+---------+-----------+\n\n"
     ]
    }
   ],
   "source": [
    "df_player.show()"
   ]
  },
  {
   "cell_type": "code",
   "execution_count": 0,
   "metadata": {
    "application/vnd.databricks.v1+cell": {
     "cellMetadata": {
      "byteLimit": 2048000,
      "rowLimit": 10000
     },
     "inputWidgets": {},
     "nuid": "ec5b9432-9749-44ee-ac51-90be6b845b40",
     "showTitle": false,
     "tableResultSettingsMap": {},
     "title": ""
    }
   },
   "outputs": [
    {
     "output_type": "stream",
     "name": "stdout",
     "output_type": "stream",
     "text": [
      "+---------+-----------+---------+\n|player_id|player_name|match_won|\n+---------+-----------+---------+\n|        1|      Nadal|        5|\n|        2|    Federer|        3|\n|        3|      Novak|        4|\n+---------+-----------+---------+\n\n"
     ]
    }
   ],
   "source": [
    "df_player.join(df_match_result,df_match_result['total_match']==df_player['player_id'],how='inner').select('player_id','player_name','match_won').show()\n"
   ]
  },
  {
   "cell_type": "code",
   "execution_count": 0,
   "metadata": {
    "application/vnd.databricks.v1+cell": {
     "cellMetadata": {},
     "inputWidgets": {},
     "nuid": "9072c266-9ae8-45b2-b098-5d89a5a027ae",
     "showTitle": false,
     "tableResultSettingsMap": {},
     "title": ""
    }
   },
   "outputs": [],
   "source": [
    "x`"
   ]
  }
 ],
 "metadata": {
  "application/vnd.databricks.v1+notebook": {
   "dashboards": [],
   "environmentMetadata": null,
   "language": "python",
   "notebookMetadata": {
    "pythonIndentUnit": 4
   },
   "notebookName": "leetcode_555",
   "widgets": {}
  }
 },
 "nbformat": 4,
 "nbformat_minor": 0
}
