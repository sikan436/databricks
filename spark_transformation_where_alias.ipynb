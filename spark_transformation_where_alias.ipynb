{
 "cells": [
  {
   "cell_type": "code",
   "execution_count": 0,
   "metadata": {
    "application/vnd.databricks.v1+cell": {
     "cellMetadata": {
      "byteLimit": 2048000,
      "rowLimit": 10000
     },
     "inputWidgets": {},
     "nuid": "e7aef133-469a-4985-81cd-6fef649bbbcb",
     "showTitle": false,
     "tableResultSettingsMap": {},
     "title": ""
    }
   },
   "outputs": [
    {
     "output_type": "stream",
     "name": "stdout",
     "output_type": "stream",
     "text": [
      "+---+--------+---+------+------------+--------+--------------------+\n| id|    name|age|salary|     address| nominee|     _corrupt_record|\n+---+--------+---+------+------------+--------+--------------------+\n|  1|  Manish| 26| 75000|       bihar|nominee1|                null|\n|  2|  Nikita| 23|100000|uttarpradesh|nominee2|                null|\n|  3|  Pritam| 22|150000|   Bangalore|   India|3,Pritam,22,15000...|\n|  4|Prantosh| 17|200000|     Kolkata|   India|4,Prantosh,17,200...|\n|  5|  Vikash| 31|300000|        null|nominee5|                null|\n+---+--------+---+------+------------+--------+--------------------+\n\n"
     ]
    }
   ],
   "source": [
    "from pyspark.sql.types import StructField,StructType,StringType,IntegerType\n",
    "from pyspark.sql.functions import *\n",
    "sample_schema=StructType([\n",
    "                            StructField('id',IntegerType(),True),\n",
    "                            StructField('name',StringType(),True),\n",
    "                            StructField('age',IntegerType(),True),\n",
    "                            StructField('salary',IntegerType(),True),\n",
    "                            StructField('address',StringType(),True),\n",
    "                            StructField('nominee',StringType(),True),\n",
    "                            StructField('_corrupt_record',StringType(),True)\n",
    "\n",
    "]\n",
    "\n",
    "\n",
    ")\n",
    "\n",
    "df_sample=spark.read.format('csv')\\\n",
    "    .option('header','True')\\\n",
    "    .option('inferschema','False')\\\n",
    "    .schema(sample_schema)\\\n",
    "    .option('mode','permissive')\\\n",
    "    .load('/FileStore/tables/sample_data-2.csv')\\\n",
    "\n",
    "df_sample.show(6)"
   ]
  },
  {
   "cell_type": "code",
   "execution_count": 0,
   "metadata": {
    "application/vnd.databricks.v1+cell": {
     "cellMetadata": {
      "byteLimit": 2048000,
      "rowLimit": 10000
     },
     "inputWidgets": {},
     "nuid": "63c3669f-53ea-412d-8beb-68550d2029ff",
     "showTitle": false,
     "tableResultSettingsMap": {},
     "title": ""
    }
   },
   "outputs": [
    {
     "output_type": "stream",
     "name": "stdout",
     "output_type": "stream",
     "text": [
      "+--------+---+\n|emp_name|age|\n+--------+---+\n|  Manish| 26|\n|  Nikita| 23|\n|  Pritam| 22|\n|Prantosh| 17|\n|  Vikash| 31|\n+--------+---+\n\n"
     ]
    }
   ],
   "source": [
    "df_sample.select(col('name').alias('emp_name'),col('age')).show()"
   ]
  },
  {
   "cell_type": "code",
   "execution_count": 0,
   "metadata": {
    "application/vnd.databricks.v1+cell": {
     "cellMetadata": {
      "byteLimit": 2048000,
      "rowLimit": 10000
     },
     "inputWidgets": {},
     "nuid": "391953b7-f3fe-461a-8491-968dcf898f72",
     "showTitle": false,
     "tableResultSettingsMap": {},
     "title": ""
    }
   },
   "outputs": [
    {
     "output_type": "stream",
     "name": "stdout",
     "output_type": "stream",
     "text": [
      "+---+--------+---+------+-------+--------+--------------------+\n| id|    name|age|salary|address| nominee|     _corrupt_record|\n+---+--------+---+------+-------+--------+--------------------+\n|  4|Prantosh| 17|200000|Kolkata|   India|4,Prantosh,17,200...|\n|  5|  Vikash| 31|300000|   null|nominee5|                null|\n+---+--------+---+------+-------+--------+--------------------+\n\n"
     ]
    }
   ],
   "source": [
    "df_sample.filter(col('salary')>150000).show()"
   ]
  },
  {
   "cell_type": "code",
   "execution_count": 0,
   "metadata": {
    "application/vnd.databricks.v1+cell": {
     "cellMetadata": {
      "byteLimit": 2048000,
      "rowLimit": 10000
     },
     "inputWidgets": {},
     "nuid": "4ed7a026-e299-4bf9-950b-26b19febb7dd",
     "showTitle": false,
     "tableResultSettingsMap": {},
     "title": ""
    }
   },
   "outputs": [
    {
     "output_type": "stream",
     "name": "stdout",
     "output_type": "stream",
     "text": [
      "+---+--------+---+------+-------+-------+--------------------+\n| id|    name|age|salary|address|nominee|     _corrupt_record|\n+---+--------+---+------+-------+-------+--------------------+\n|  4|Prantosh| 17|200000|Kolkata|  India|4,Prantosh,17,200...|\n+---+--------+---+------+-------+-------+--------------------+\n\n"
     ]
    }
   ],
   "source": [
    "df_sample.filter((col('salary')>150000) & (col('age')<18)).show()"
   ]
  },
  {
   "cell_type": "code",
   "execution_count": 0,
   "metadata": {
    "application/vnd.databricks.v1+cell": {
     "cellMetadata": {
      "byteLimit": 2048000,
      "rowLimit": 10000
     },
     "inputWidgets": {},
     "nuid": "d219aa6c-04f8-406a-be5e-8bb03b44a0bd",
     "showTitle": false,
     "tableResultSettingsMap": {},
     "title": ""
    }
   },
   "outputs": [
    {
     "output_type": "stream",
     "name": "stdout",
     "output_type": "stream",
     "text": [
      "+---+--------+---+------+------------+--------+--------------------+---------+\n| id|    name|age|salary|     address| nominee|     _corrupt_record|last_name|\n+---+--------+---+------+------------+--------+--------------------+---------+\n|  1|  Manish| 26| 75000|       bihar|nominee1|                null|    kumar|\n|  2|  Nikita| 23|100000|uttarpradesh|nominee2|                null|    kumar|\n|  3|  Pritam| 22|150000|   Bangalore|   India|3,Pritam,22,15000...|    kumar|\n|  4|Prantosh| 17|200000|     Kolkata|   India|4,Prantosh,17,200...|    kumar|\n|  5|  Vikash| 31|300000|        null|nominee5|                null|    kumar|\n+---+--------+---+------+------------+--------+--------------------+---------+\n\n"
     ]
    }
   ],
   "source": [
    "df_sample.select('*',lit('kumar').alias('last_name')).show()"
   ]
  },
  {
   "cell_type": "code",
   "execution_count": 0,
   "metadata": {
    "application/vnd.databricks.v1+cell": {
     "cellMetadata": {
      "byteLimit": 2048000,
      "rowLimit": 10000
     },
     "inputWidgets": {},
     "nuid": "8059e6a9-1a4b-4632-946a-de1862a17c29",
     "showTitle": false,
     "tableResultSettingsMap": {},
     "title": ""
    }
   },
   "outputs": [
    {
     "output_type": "stream",
     "name": "stdout",
     "output_type": "stream",
     "text": [
      "+---+--------+---+------+------------+--------+--------------------+--------+\n| id|    name|age|salary|     address| nominee|     _corrupt_record|sir_name|\n+---+--------+---+------+------------+--------+--------------------+--------+\n|  1|  Manish| 26| 75000|       bihar|nominee1|                null|   kumar|\n|  2|  Nikita| 23|100000|uttarpradesh|nominee2|                null|   kumar|\n|  3|  Pritam| 22|150000|   Bangalore|   India|3,Pritam,22,15000...|   kumar|\n|  4|Prantosh| 17|200000|     Kolkata|   India|4,Prantosh,17,200...|   kumar|\n|  5|  Vikash| 31|300000|        null|nominee5|                null|   kumar|\n+---+--------+---+------+------------+--------+--------------------+--------+\n\n"
     ]
    }
   ],
   "source": [
    "df_sample.withColumn('sir_name',lit('kumar')).show()"
   ]
  },
  {
   "cell_type": "code",
   "execution_count": 0,
   "metadata": {
    "application/vnd.databricks.v1+cell": {
     "cellMetadata": {
      "byteLimit": 2048000,
      "rowLimit": 10000
     },
     "inputWidgets": {},
     "nuid": "235c1c64-0958-4eff-8777-27c0e7af5dbb",
     "showTitle": false,
     "tableResultSettingsMap": {},
     "title": ""
    }
   },
   "outputs": [
    {
     "output_type": "stream",
     "name": "stdout",
     "output_type": "stream",
     "text": [
      "+------+--------+---+------+------------+--------+--------------------+\n|emp_id|    name|age|salary|     address| nominee|     _corrupt_record|\n+------+--------+---+------+------------+--------+--------------------+\n|     1|  Manish| 26| 75000|       bihar|nominee1|                null|\n|     2|  Nikita| 23|100000|uttarpradesh|nominee2|                null|\n|     3|  Pritam| 22|150000|   Bangalore|   India|3,Pritam,22,15000...|\n|     4|Prantosh| 17|200000|     Kolkata|   India|4,Prantosh,17,200...|\n|     5|  Vikash| 31|300000|        null|nominee5|                null|\n+------+--------+---+------+------------+--------+--------------------+\n\n"
     ]
    }
   ],
   "source": [
    "df_sample.withColumnRenamed('id','emp_id').show()"
   ]
  },
  {
   "cell_type": "code",
   "execution_count": 0,
   "metadata": {
    "application/vnd.databricks.v1+cell": {
     "cellMetadata": {
      "byteLimit": 2048000,
      "rowLimit": 10000
     },
     "inputWidgets": {},
     "nuid": "470581f7-91f0-4082-984a-bc0cfb2b5742",
     "showTitle": false,
     "tableResultSettingsMap": {},
     "title": ""
    }
   },
   "outputs": [
    {
     "output_type": "stream",
     "name": "stdout",
     "output_type": "stream",
     "text": [
      "+---+--------+---+------+------------+--------+--------------------+\n| id|    name|age|salary|     address| nominee|     _corrupt_record|\n+---+--------+---+------+------------+--------+--------------------+\n|  1|  Manish| 26| 75000|       bihar|nominee1|                null|\n|  2|  Nikita| 23|100000|uttarpradesh|nominee2|                null|\n|  3|  Pritam| 22|150000|   Bangalore|   India|3,Pritam,22,15000...|\n|  4|Prantosh| 17|200000|     Kolkata|   India|4,Prantosh,17,200...|\n|  5|  Vikash| 31|300000|        null|nominee5|                null|\n+---+--------+---+------+------------+--------+--------------------+\n\n"
     ]
    }
   ],
   "source": [
    "df_sample.show(\n",
    "\n",
    ")"
   ]
  },
  {
   "cell_type": "code",
   "execution_count": 0,
   "metadata": {
    "application/vnd.databricks.v1+cell": {
     "cellMetadata": {
      "byteLimit": 2048000,
      "rowLimit": 10000
     },
     "inputWidgets": {},
     "nuid": "cc6a34b3-3122-4df0-a10f-98f051bc4d28",
     "showTitle": false,
     "tableResultSettingsMap": {},
     "title": ""
    }
   },
   "outputs": [
    {
     "output_type": "stream",
     "name": "stdout",
     "output_type": "stream",
     "text": [
      "root\n |-- id: integer (nullable = true)\n |-- name: string (nullable = true)\n |-- age: integer (nullable = true)\n |-- salary: integer (nullable = true)\n |-- address: string (nullable = true)\n |-- nominee: string (nullable = true)\n |-- _corrupt_record: string (nullable = true)\n\n"
     ]
    }
   ],
   "source": [
    "df_sample.printSchema()"
   ]
  },
  {
   "cell_type": "code",
   "execution_count": 0,
   "metadata": {
    "application/vnd.databricks.v1+cell": {
     "cellMetadata": {
      "byteLimit": 2048000,
      "rowLimit": 10000
     },
     "inputWidgets": {},
     "nuid": "5ad012f0-2049-40b2-a86f-24a94fb31c14",
     "showTitle": false,
     "tableResultSettingsMap": {},
     "title": ""
    }
   },
   "outputs": [
    {
     "output_type": "stream",
     "name": "stdout",
     "output_type": "stream",
     "text": [
      "root\n |-- id: string (nullable = true)\n |-- name: string (nullable = true)\n |-- age: integer (nullable = true)\n |-- salary: string (nullable = true)\n |-- address: string (nullable = true)\n |-- nominee: string (nullable = true)\n |-- _corrupt_record: string (nullable = true)\n\n"
     ]
    }
   ],
   "source": [
    "df_sample.withColumn('id',col('id').cast('string')).withColumn('salary',col('salary').cast('string')).printSchema()"
   ]
  },
  {
   "cell_type": "code",
   "execution_count": 0,
   "metadata": {
    "application/vnd.databricks.v1+cell": {
     "cellMetadata": {},
     "inputWidgets": {},
     "nuid": "c668b992-5bbb-4f95-9297-b1a2667d5d14",
     "showTitle": false,
     "tableResultSettingsMap": {},
     "title": ""
    }
   },
   "outputs": [],
   "source": []
  }
 ],
 "metadata": {
  "application/vnd.databricks.v1+notebook": {
   "dashboards": [],
   "environmentMetadata": null,
   "language": "python",
   "notebookMetadata": {
    "pythonIndentUnit": 4
   },
   "notebookName": "spark_transformation_where_alias",
   "widgets": {}
  }
 },
 "nbformat": 4,
 "nbformat_minor": 0
}
