{
 "cells": [
  {
   "cell_type": "code",
   "execution_count": 0,
   "metadata": {
    "application/vnd.databricks.v1+cell": {
     "cellMetadata": {
      "byteLimit": 2048000,
      "rowLimit": 10000
     },
     "inputWidgets": {},
     "nuid": "3363d2f6-da78-439e-a567-e80d73d52e5f",
     "showTitle": false,
     "title": ""
    }
   },
   "outputs": [],
   "source": [
    "df_write=spark.read.format('csv')\\\n",
    "          .option('header','True')\\\n",
    "          .option('inferschema','true')\\\n",
    "          .option('mode','permissive')\\\n",
    "          .load('/FileStore/tables/df_save-2.txt')"
   ]
  },
  {
   "cell_type": "code",
   "execution_count": 0,
   "metadata": {
    "application/vnd.databricks.v1+cell": {
     "cellMetadata": {
      "byteLimit": 2048000,
      "rowLimit": 10000
     },
     "inputWidgets": {},
     "nuid": "f239ac95-e801-4b63-9e00-a0e5a179512b",
     "showTitle": false,
     "title": ""
    }
   },
   "outputs": [
    {
     "output_type": "stream",
     "name": "stdout",
     "output_type": "stream",
     "text": [
      "+---+--------+---+------+-------+------+\n| id|    name|age|salary|address|gender|\n+---+--------+---+------+-------+------+\n|  1|  Manish| 26| 75000|  INDIA|     m|\n|  2|  Nikita| 23|100000|    USA|     f|\n|  3|  Pritam| 22|150000|  INDIA|     m|\n|  4|Prantosh| 17|200000|  JAPAN|     m|\n|  5|  Vikash| 31|300000|    USA|     m|\n|  6|   Rahul| 55|300000|  INDIA|     m|\n|  7|    Raju| 67|540000|    USA|     m|\n|  8| Praveen| 28| 70000|  JAPAN|     m|\n|  9|     Dev| 32|150000|  JAPAN|     m|\n| 10|  Sherin| 16| 25000| RUSSIA|     f|\n| 11|    Ragu| 12| 35000|  INDIA|     f|\n| 12|   Sweta| 43|200000|  INDIA|     f|\n| 13| Raushan| 48|650000|    USA|     m|\n| 14|  Mukesh| 36| 95000| RUSSIA|     m|\n| 15| Prakash| 52|750000|  INDIA|     m|\n+---+--------+---+------+-------+------+\n\n"
     ]
    }
   ],
   "source": [
    "df_write.show()"
   ]
  },
  {
   "cell_type": "code",
   "execution_count": 0,
   "metadata": {
    "application/vnd.databricks.v1+cell": {
     "cellMetadata": {
      "byteLimit": 2048000,
      "rowLimit": 10000
     },
     "inputWidgets": {},
     "nuid": "cdf32f77-cd8e-4eb7-9d14-b597f9bb5115",
     "showTitle": false,
     "title": ""
    }
   },
   "outputs": [],
   "source": [
    "df_write.write.format('csv')\\\n",
    "              .option('header','true')\\\n",
    "              .option('mode','overwrite')\\\n",
    "              .save('/FileStore/tables/write/')"
   ]
  },
  {
   "cell_type": "code",
   "execution_count": 0,
   "metadata": {
    "application/vnd.databricks.v1+cell": {
     "cellMetadata": {
      "byteLimit": 2048000,
      "rowLimit": 10000
     },
     "inputWidgets": {},
     "nuid": "eb9aab8f-20da-46e7-850c-6a96f677dc7c",
     "showTitle": false,
     "title": ""
    }
   },
   "outputs": [
    {
     "output_type": "display_data",
     "data": {
      "text/html": [
       "<style scoped>\n",
       "  .table-result-container {\n",
       "    max-height: 300px;\n",
       "    overflow: auto;\n",
       "  }\n",
       "  table, th, td {\n",
       "    border: 1px solid black;\n",
       "    border-collapse: collapse;\n",
       "  }\n",
       "  th, td {\n",
       "    padding: 5px;\n",
       "  }\n",
       "  th {\n",
       "    text-align: left;\n",
       "  }\n",
       "</style><div class='table-result-container'><table class='table-result'><thead style='background-color: white'><tr><th>path</th><th>name</th><th>size</th><th>modificationTime</th></tr></thead><tbody><tr><td>dbfs:/FileStore/tables/write/_SUCCESS</td><td>_SUCCESS</td><td>0</td><td>1730104257000</td></tr><tr><td>dbfs:/FileStore/tables/write/_committed_8696032620651517116</td><td>_committed_8696032620651517116</td><td>111</td><td>1730104257000</td></tr><tr><td>dbfs:/FileStore/tables/write/_started_8696032620651517116</td><td>_started_8696032620651517116</td><td>0</td><td>1730104256000</td></tr><tr><td>dbfs:/FileStore/tables/write/part-00000-tid-8696032620651517116-4edc39e4-fd47-40ef-808b-778b81a25d6a-5-1-c000.csv</td><td>part-00000-tid-8696032620651517116-4edc39e4-fd47-40ef-808b-778b81a25d6a-5-1-c000.csv</td><td>490</td><td>1730104256000</td></tr></tbody></table></div>"
      ]
     },
     "metadata": {
      "application/vnd.databricks.v1+output": {
       "addedWidgets": {},
       "aggData": [],
       "aggError": "",
       "aggOverflow": false,
       "aggSchema": [],
       "aggSeriesLimitReached": false,
       "aggType": "",
       "arguments": {},
       "columnCustomDisplayInfos": {},
       "data": [
        [
         "dbfs:/FileStore/tables/write/_SUCCESS",
         "_SUCCESS",
         0,
         1730104257000
        ],
        [
         "dbfs:/FileStore/tables/write/_committed_8696032620651517116",
         "_committed_8696032620651517116",
         111,
         1730104257000
        ],
        [
         "dbfs:/FileStore/tables/write/_started_8696032620651517116",
         "_started_8696032620651517116",
         0,
         1730104256000
        ],
        [
         "dbfs:/FileStore/tables/write/part-00000-tid-8696032620651517116-4edc39e4-fd47-40ef-808b-778b81a25d6a-5-1-c000.csv",
         "part-00000-tid-8696032620651517116-4edc39e4-fd47-40ef-808b-778b81a25d6a-5-1-c000.csv",
         490,
         1730104256000
        ]
       ],
       "datasetInfos": [],
       "dbfsResultPath": null,
       "isJsonSchema": true,
       "metadata": {
        "isDbfsCommandResult": false
       },
       "overflow": false,
       "plotOptions": {
        "customPlotOptions": {},
        "displayType": "table",
        "pivotAggregation": null,
        "pivotColumns": null,
        "xColumns": null,
        "yColumns": null
       },
       "removedWidgets": [],
       "schema": [
        {
         "metadata": "{}",
         "name": "path",
         "type": "\"string\""
        },
        {
         "metadata": "{}",
         "name": "name",
         "type": "\"string\""
        },
        {
         "metadata": "{}",
         "name": "size",
         "type": "\"long\""
        },
        {
         "metadata": "{}",
         "name": "modificationTime",
         "type": "\"long\""
        }
       ],
       "type": "table"
      }
     },
     "output_type": "display_data"
    }
   ],
   "source": [
    "%fs\n",
    "ls /FileStore/tables/write/"
   ]
  },
  {
   "cell_type": "code",
   "execution_count": 0,
   "metadata": {
    "application/vnd.databricks.v1+cell": {
     "cellMetadata": {
      "byteLimit": 2048000,
      "rowLimit": 10000
     },
     "inputWidgets": {},
     "nuid": "4692259b-e5f1-4605-b5eb-56d0851fe610",
     "showTitle": false,
     "title": ""
    }
   },
   "outputs": [],
   "source": [
    "df_write.repartition(3).write.format('csv')\\\n",
    "              .option('header','true')\\\n",
    "              .option('mode','overwrite')\\\n",
    "              .save('/FileStore/tables/write1/')"
   ]
  },
  {
   "cell_type": "code",
   "execution_count": 0,
   "metadata": {
    "application/vnd.databricks.v1+cell": {
     "cellMetadata": {
      "byteLimit": 2048000,
      "rowLimit": 10000
     },
     "inputWidgets": {},
     "nuid": "7a8c968f-4ad6-4c37-8210-1986b80a5931",
     "showTitle": false,
     "title": ""
    }
   },
   "outputs": [
    {
     "output_type": "display_data",
     "data": {
      "text/html": [
       "<style scoped>\n",
       "  .table-result-container {\n",
       "    max-height: 300px;\n",
       "    overflow: auto;\n",
       "  }\n",
       "  table, th, td {\n",
       "    border: 1px solid black;\n",
       "    border-collapse: collapse;\n",
       "  }\n",
       "  th, td {\n",
       "    padding: 5px;\n",
       "  }\n",
       "  th {\n",
       "    text-align: left;\n",
       "  }\n",
       "</style><div class='table-result-container'><table class='table-result'><thead style='background-color: white'><tr><th>path</th><th>name</th><th>size</th><th>modificationTime</th></tr></thead><tbody><tr><td>dbfs:/FileStore/tables/write1/_SUCCESS</td><td>_SUCCESS</td><td>0</td><td>1730104710000</td></tr><tr><td>dbfs:/FileStore/tables/write1/_committed_9063365217388878656</td><td>_committed_9063365217388878656</td><td>286</td><td>1730104710000</td></tr><tr><td>dbfs:/FileStore/tables/write1/_started_9063365217388878656</td><td>_started_9063365217388878656</td><td>0</td><td>1730104709000</td></tr><tr><td>dbfs:/FileStore/tables/write1/part-00000-tid-9063365217388878656-b208eb24-35fa-4116-a7c4-7a53354a382a-8-1-c000.csv</td><td>part-00000-tid-9063365217388878656-b208eb24-35fa-4116-a7c4-7a53354a382a-8-1-c000.csv</td><td>184</td><td>1730104710000</td></tr><tr><td>dbfs:/FileStore/tables/write1/part-00001-tid-9063365217388878656-b208eb24-35fa-4116-a7c4-7a53354a382a-9-1-c000.csv</td><td>part-00001-tid-9063365217388878656-b208eb24-35fa-4116-a7c4-7a53354a382a-9-1-c000.csv</td><td>184</td><td>1730104710000</td></tr><tr><td>dbfs:/FileStore/tables/write1/part-00002-tid-9063365217388878656-b208eb24-35fa-4116-a7c4-7a53354a382a-10-1-c000.csv</td><td>part-00002-tid-9063365217388878656-b208eb24-35fa-4116-a7c4-7a53354a382a-10-1-c000.csv</td><td>190</td><td>1730104709000</td></tr></tbody></table></div>"
      ]
     },
     "metadata": {
      "application/vnd.databricks.v1+output": {
       "addedWidgets": {},
       "aggData": [],
       "aggError": "",
       "aggOverflow": false,
       "aggSchema": [],
       "aggSeriesLimitReached": false,
       "aggType": "",
       "arguments": {},
       "columnCustomDisplayInfos": {},
       "data": [
        [
         "dbfs:/FileStore/tables/write1/_SUCCESS",
         "_SUCCESS",
         0,
         1730104710000
        ],
        [
         "dbfs:/FileStore/tables/write1/_committed_9063365217388878656",
         "_committed_9063365217388878656",
         286,
         1730104710000
        ],
        [
         "dbfs:/FileStore/tables/write1/_started_9063365217388878656",
         "_started_9063365217388878656",
         0,
         1730104709000
        ],
        [
         "dbfs:/FileStore/tables/write1/part-00000-tid-9063365217388878656-b208eb24-35fa-4116-a7c4-7a53354a382a-8-1-c000.csv",
         "part-00000-tid-9063365217388878656-b208eb24-35fa-4116-a7c4-7a53354a382a-8-1-c000.csv",
         184,
         1730104710000
        ],
        [
         "dbfs:/FileStore/tables/write1/part-00001-tid-9063365217388878656-b208eb24-35fa-4116-a7c4-7a53354a382a-9-1-c000.csv",
         "part-00001-tid-9063365217388878656-b208eb24-35fa-4116-a7c4-7a53354a382a-9-1-c000.csv",
         184,
         1730104710000
        ],
        [
         "dbfs:/FileStore/tables/write1/part-00002-tid-9063365217388878656-b208eb24-35fa-4116-a7c4-7a53354a382a-10-1-c000.csv",
         "part-00002-tid-9063365217388878656-b208eb24-35fa-4116-a7c4-7a53354a382a-10-1-c000.csv",
         190,
         1730104709000
        ]
       ],
       "datasetInfos": [],
       "dbfsResultPath": null,
       "isJsonSchema": true,
       "metadata": {
        "isDbfsCommandResult": false
       },
       "overflow": false,
       "plotOptions": {
        "customPlotOptions": {},
        "displayType": "table",
        "pivotAggregation": null,
        "pivotColumns": null,
        "xColumns": null,
        "yColumns": null
       },
       "removedWidgets": [],
       "schema": [
        {
         "metadata": "{}",
         "name": "path",
         "type": "\"string\""
        },
        {
         "metadata": "{}",
         "name": "name",
         "type": "\"string\""
        },
        {
         "metadata": "{}",
         "name": "size",
         "type": "\"long\""
        },
        {
         "metadata": "{}",
         "name": "modificationTime",
         "type": "\"long\""
        }
       ],
       "type": "table"
      }
     },
     "output_type": "display_data"
    }
   ],
   "source": [
    "%fs\n",
    "ls /FileStore/tables/write1/"
   ]
  },
  {
   "cell_type": "code",
   "execution_count": 0,
   "metadata": {
    "application/vnd.databricks.v1+cell": {
     "cellMetadata": {
      "byteLimit": 2048000,
      "rowLimit": 10000
     },
     "inputWidgets": {},
     "nuid": "f7a83eee-b09d-4121-acf2-7758240b8690",
     "showTitle": false,
     "title": ""
    }
   },
   "outputs": [
    {
     "output_type": "stream",
     "name": "stdout",
     "output_type": "stream",
     "text": [
      "Out[11]: [FileInfo(path='dbfs:/FileStore/tables/write1/_SUCCESS', name='_SUCCESS', size=0, modificationTime=1730104710000),\n FileInfo(path='dbfs:/FileStore/tables/write1/_committed_9063365217388878656', name='_committed_9063365217388878656', size=286, modificationTime=1730104710000),\n FileInfo(path='dbfs:/FileStore/tables/write1/_started_9063365217388878656', name='_started_9063365217388878656', size=0, modificationTime=1730104709000),\n FileInfo(path='dbfs:/FileStore/tables/write1/part-00000-tid-9063365217388878656-b208eb24-35fa-4116-a7c4-7a53354a382a-8-1-c000.csv', name='part-00000-tid-9063365217388878656-b208eb24-35fa-4116-a7c4-7a53354a382a-8-1-c000.csv', size=184, modificationTime=1730104710000),\n FileInfo(path='dbfs:/FileStore/tables/write1/part-00001-tid-9063365217388878656-b208eb24-35fa-4116-a7c4-7a53354a382a-9-1-c000.csv', name='part-00001-tid-9063365217388878656-b208eb24-35fa-4116-a7c4-7a53354a382a-9-1-c000.csv', size=184, modificationTime=1730104710000),\n FileInfo(path='dbfs:/FileStore/tables/write1/part-00002-tid-9063365217388878656-b208eb24-35fa-4116-a7c4-7a53354a382a-10-1-c000.csv', name='part-00002-tid-9063365217388878656-b208eb24-35fa-4116-a7c4-7a53354a382a-10-1-c000.csv', size=190, modificationTime=1730104709000)]"
     ]
    }
   ],
   "source": [
    "dbutils.fs.ls ('/FileStore/tables/write1/')"
   ]
  },
  {
   "cell_type": "code",
   "execution_count": 0,
   "metadata": {
    "application/vnd.databricks.v1+cell": {
     "cellMetadata": {
      "byteLimit": 2048000,
      "rowLimit": 10000
     },
     "inputWidgets": {},
     "nuid": "4c68e813-cfce-4439-880e-107ea5935e7e",
     "showTitle": false,
     "title": ""
    }
   },
   "outputs": [
    {
     "output_type": "stream",
     "name": "stdout",
     "output_type": "stream",
     "text": [
      "root\n |-- id: integer (nullable = true)\n |-- name: string (nullable = true)\n |-- age: integer (nullable = true)\n |-- salary: integer (nullable = true)\n |-- address: string (nullable = true)\n |-- gender: string (nullable = true)\n\n"
     ]
    }
   ],
   "source": [
    "df_write.printSchema()"
   ]
  },
  {
   "cell_type": "code",
   "execution_count": 0,
   "metadata": {
    "application/vnd.databricks.v1+cell": {
     "cellMetadata": {
      "byteLimit": 2048000,
      "rowLimit": 10000
     },
     "inputWidgets": {},
     "nuid": "5b8b6fc3-6e93-4805-8f59-0a93c493a7e9",
     "showTitle": false,
     "title": ""
    }
   },
   "outputs": [],
   "source": [
    "df_write.write.format('csv')\\\n",
    "              .option('header','true')\\\n",
    "              .option('mode','overwrite')\\\n",
    "              .partitionBy('address')\\\n",
    "              .save('/FileStore/tables/partition_by_address1/')"
   ]
  },
  {
   "cell_type": "code",
   "execution_count": 0,
   "metadata": {
    "application/vnd.databricks.v1+cell": {
     "cellMetadata": {
      "byteLimit": 2048000,
      "rowLimit": 10000
     },
     "inputWidgets": {},
     "nuid": "0ee41ffa-8d2f-497e-8058-c2b735455a34",
     "showTitle": false,
     "title": ""
    }
   },
   "outputs": [
    {
     "output_type": "display_data",
     "data": {
      "text/html": [
       "<style scoped>\n",
       "  .table-result-container {\n",
       "    max-height: 300px;\n",
       "    overflow: auto;\n",
       "  }\n",
       "  table, th, td {\n",
       "    border: 1px solid black;\n",
       "    border-collapse: collapse;\n",
       "  }\n",
       "  th, td {\n",
       "    padding: 5px;\n",
       "  }\n",
       "  th {\n",
       "    text-align: left;\n",
       "  }\n",
       "</style><div class='table-result-container'><table class='table-result'><thead style='background-color: white'><tr><th>path</th><th>name</th><th>size</th><th>modificationTime</th></tr></thead><tbody><tr><td>dbfs:/FileStore/tables/partition_by_address1/_SUCCESS</td><td>_SUCCESS</td><td>0</td><td>1730107604000</td></tr><tr><td>dbfs:/FileStore/tables/partition_by_address1/address=INDIA/</td><td>address=INDIA/</td><td>0</td><td>0</td></tr><tr><td>dbfs:/FileStore/tables/partition_by_address1/address=JAPAN/</td><td>address=JAPAN/</td><td>0</td><td>0</td></tr><tr><td>dbfs:/FileStore/tables/partition_by_address1/address=RUSSIA/</td><td>address=RUSSIA/</td><td>0</td><td>0</td></tr><tr><td>dbfs:/FileStore/tables/partition_by_address1/address=USA/</td><td>address=USA/</td><td>0</td><td>0</td></tr></tbody></table></div>"
      ]
     },
     "metadata": {
      "application/vnd.databricks.v1+output": {
       "addedWidgets": {},
       "aggData": [],
       "aggError": "",
       "aggOverflow": false,
       "aggSchema": [],
       "aggSeriesLimitReached": false,
       "aggType": "",
       "arguments": {},
       "columnCustomDisplayInfos": {},
       "data": [
        [
         "dbfs:/FileStore/tables/partition_by_address1/_SUCCESS",
         "_SUCCESS",
         0,
         1730107604000
        ],
        [
         "dbfs:/FileStore/tables/partition_by_address1/address=INDIA/",
         "address=INDIA/",
         0,
         0
        ],
        [
         "dbfs:/FileStore/tables/partition_by_address1/address=JAPAN/",
         "address=JAPAN/",
         0,
         0
        ],
        [
         "dbfs:/FileStore/tables/partition_by_address1/address=RUSSIA/",
         "address=RUSSIA/",
         0,
         0
        ],
        [
         "dbfs:/FileStore/tables/partition_by_address1/address=USA/",
         "address=USA/",
         0,
         0
        ]
       ],
       "datasetInfos": [],
       "dbfsResultPath": null,
       "isJsonSchema": true,
       "metadata": {
        "isDbfsCommandResult": false
       },
       "overflow": false,
       "plotOptions": {
        "customPlotOptions": {},
        "displayType": "table",
        "pivotAggregation": null,
        "pivotColumns": null,
        "xColumns": null,
        "yColumns": null
       },
       "removedWidgets": [],
       "schema": [
        {
         "metadata": "{}",
         "name": "path",
         "type": "\"string\""
        },
        {
         "metadata": "{}",
         "name": "name",
         "type": "\"string\""
        },
        {
         "metadata": "{}",
         "name": "size",
         "type": "\"long\""
        },
        {
         "metadata": "{}",
         "name": "modificationTime",
         "type": "\"long\""
        }
       ],
       "type": "table"
      }
     },
     "output_type": "display_data"
    }
   ],
   "source": [
    "%fs\n",
    "ls /FileStore/tables/partition_by_address1/"
   ]
  },
  {
   "cell_type": "code",
   "execution_count": 0,
   "metadata": {
    "application/vnd.databricks.v1+cell": {
     "cellMetadata": {
      "byteLimit": 2048000,
      "rowLimit": 10000
     },
     "inputWidgets": {},
     "nuid": "937650d3-43db-4b27-8003-304842b55a26",
     "showTitle": false,
     "title": ""
    }
   },
   "outputs": [
    {
     "output_type": "stream",
     "name": "stdout",
     "output_type": "stream",
     "text": [
      "Out[24]: [FileInfo(path='dbfs:/FileStore/tables/partition_by_address1/_SUCCESS', name='_SUCCESS', size=0, modificationTime=1730107604000),\n FileInfo(path='dbfs:/FileStore/tables/partition_by_address1/address=INDIA/', name='address=INDIA/', size=0, modificationTime=0),\n FileInfo(path='dbfs:/FileStore/tables/partition_by_address1/address=JAPAN/', name='address=JAPAN/', size=0, modificationTime=0),\n FileInfo(path='dbfs:/FileStore/tables/partition_by_address1/address=RUSSIA/', name='address=RUSSIA/', size=0, modificationTime=0),\n FileInfo(path='dbfs:/FileStore/tables/partition_by_address1/address=USA/', name='address=USA/', size=0, modificationTime=0)]"
     ]
    }
   ],
   "source": [
    "dbutils.fs.ls('/FileStore/tables/partition_by_address1/')"
   ]
  },
  {
   "cell_type": "code",
   "execution_count": 0,
   "metadata": {
    "application/vnd.databricks.v1+cell": {
     "cellMetadata": {
      "byteLimit": 2048000,
      "rowLimit": 10000
     },
     "inputWidgets": {},
     "nuid": "9b6ef80e-2c9a-46ee-bb86-d09c3dec9832",
     "showTitle": false,
     "title": ""
    }
   },
   "outputs": [
    {
     "output_type": "stream",
     "name": "stdout",
     "output_type": "stream",
     "text": [
      "+---+--------+---+------+-------+------+\n| id|    name|age|salary|address|gender|\n+---+--------+---+------+-------+------+\n|  1|  Manish| 26| 75000|  INDIA|     m|\n|  2|  Nikita| 23|100000|    USA|     f|\n|  3|  Pritam| 22|150000|  INDIA|     m|\n|  4|Prantosh| 17|200000|  JAPAN|     m|\n|  5|  Vikash| 31|300000|    USA|     m|\n|  6|   Rahul| 55|300000|  INDIA|     m|\n|  7|    Raju| 67|540000|    USA|     m|\n|  8| Praveen| 28| 70000|  JAPAN|     m|\n|  9|     Dev| 32|150000|  JAPAN|     m|\n| 10|  Sherin| 16| 25000| RUSSIA|     f|\n| 11|    Ragu| 12| 35000|  INDIA|     f|\n| 12|   Sweta| 43|200000|  INDIA|     f|\n| 13| Raushan| 48|650000|    USA|     m|\n| 14|  Mukesh| 36| 95000| RUSSIA|     m|\n| 15| Prakash| 52|750000|  INDIA|     m|\n+---+--------+---+------+-------+------+\n\n"
     ]
    }
   ],
   "source": [
    "df_write.show()"
   ]
  },
  {
   "cell_type": "code",
   "execution_count": 0,
   "metadata": {
    "application/vnd.databricks.v1+cell": {
     "cellMetadata": {
      "byteLimit": 2048000,
      "rowLimit": 10000
     },
     "inputWidgets": {},
     "nuid": "cf91aad1-4823-4eed-8934-0fe2a5ffd953",
     "showTitle": false,
     "title": ""
    }
   },
   "outputs": [],
   "source": [
    "df_write.write.format('csv')\\\n",
    "              .option('header','true')\\\n",
    "              .option('mode','overwrite')\\\n",
    "              .bucketBy(3,'id')\\\n",
    "              .option('path','/FileStore/tables/bucketby_id/')\\\n",
    "              .saveAsTable('bucketby_id')"
   ]
  },
  {
   "cell_type": "code",
   "execution_count": 0,
   "metadata": {
    "application/vnd.databricks.v1+cell": {
     "cellMetadata": {
      "byteLimit": 2048000,
      "rowLimit": 10000
     },
     "inputWidgets": {},
     "nuid": "379fcdb7-bd01-45f1-b256-c66a9e2e41a2",
     "showTitle": false,
     "title": ""
    }
   },
   "outputs": [
    {
     "output_type": "display_data",
     "data": {
      "text/html": [
       "<style scoped>\n",
       "  .table-result-container {\n",
       "    max-height: 300px;\n",
       "    overflow: auto;\n",
       "  }\n",
       "  table, th, td {\n",
       "    border: 1px solid black;\n",
       "    border-collapse: collapse;\n",
       "  }\n",
       "  th, td {\n",
       "    padding: 5px;\n",
       "  }\n",
       "  th {\n",
       "    text-align: left;\n",
       "  }\n",
       "</style><div class='table-result-container'><table class='table-result'><thead style='background-color: white'><tr><th>path</th><th>name</th><th>size</th><th>modificationTime</th></tr></thead><tbody><tr><td>dbfs:/FileStore/tables/bucketby_id/_SUCCESS</td><td>_SUCCESS</td><td>0</td><td>1730112687000</td></tr><tr><td>dbfs:/FileStore/tables/bucketby_id/_committed_8683020225740830178</td><td>_committed_8683020225740830178</td><td>303</td><td>1730112687000</td></tr><tr><td>dbfs:/FileStore/tables/bucketby_id/_started_8683020225740830178</td><td>_started_8683020225740830178</td><td>0</td><td>1730112686000</td></tr><tr><td>dbfs:/FileStore/tables/bucketby_id/part-00000-tid-8683020225740830178-5a0d5796-6fed-4f59-a7b1-c48939cd63c9-4-1_00000.c000.csv</td><td>part-00000-tid-8683020225740830178-5a0d5796-6fed-4f59-a7b1-c48939cd63c9-4-1_00000.c000.csv</td><td>270</td><td>1730112686000</td></tr><tr><td>dbfs:/FileStore/tables/bucketby_id/part-00000-tid-8683020225740830178-5a0d5796-6fed-4f59-a7b1-c48939cd63c9-4-2_00001.c000.csv</td><td>part-00000-tid-8683020225740830178-5a0d5796-6fed-4f59-a7b1-c48939cd63c9-4-2_00001.c000.csv</td><td>113</td><td>1730112687000</td></tr><tr><td>dbfs:/FileStore/tables/bucketby_id/part-00000-tid-8683020225740830178-5a0d5796-6fed-4f59-a7b1-c48939cd63c9-4-3_00002.c000.csv</td><td>part-00000-tid-8683020225740830178-5a0d5796-6fed-4f59-a7b1-c48939cd63c9-4-3_00002.c000.csv</td><td>115</td><td>1730112687000</td></tr></tbody></table></div>"
      ]
     },
     "metadata": {
      "application/vnd.databricks.v1+output": {
       "addedWidgets": {},
       "aggData": [],
       "aggError": "",
       "aggOverflow": false,
       "aggSchema": [],
       "aggSeriesLimitReached": false,
       "aggType": "",
       "arguments": {},
       "columnCustomDisplayInfos": {},
       "data": [
        [
         "dbfs:/FileStore/tables/bucketby_id/_SUCCESS",
         "_SUCCESS",
         0,
         1730112687000
        ],
        [
         "dbfs:/FileStore/tables/bucketby_id/_committed_8683020225740830178",
         "_committed_8683020225740830178",
         303,
         1730112687000
        ],
        [
         "dbfs:/FileStore/tables/bucketby_id/_started_8683020225740830178",
         "_started_8683020225740830178",
         0,
         1730112686000
        ],
        [
         "dbfs:/FileStore/tables/bucketby_id/part-00000-tid-8683020225740830178-5a0d5796-6fed-4f59-a7b1-c48939cd63c9-4-1_00000.c000.csv",
         "part-00000-tid-8683020225740830178-5a0d5796-6fed-4f59-a7b1-c48939cd63c9-4-1_00000.c000.csv",
         270,
         1730112686000
        ],
        [
         "dbfs:/FileStore/tables/bucketby_id/part-00000-tid-8683020225740830178-5a0d5796-6fed-4f59-a7b1-c48939cd63c9-4-2_00001.c000.csv",
         "part-00000-tid-8683020225740830178-5a0d5796-6fed-4f59-a7b1-c48939cd63c9-4-2_00001.c000.csv",
         113,
         1730112687000
        ],
        [
         "dbfs:/FileStore/tables/bucketby_id/part-00000-tid-8683020225740830178-5a0d5796-6fed-4f59-a7b1-c48939cd63c9-4-3_00002.c000.csv",
         "part-00000-tid-8683020225740830178-5a0d5796-6fed-4f59-a7b1-c48939cd63c9-4-3_00002.c000.csv",
         115,
         1730112687000
        ]
       ],
       "datasetInfos": [],
       "dbfsResultPath": null,
       "isJsonSchema": true,
       "metadata": {
        "isDbfsCommandResult": false
       },
       "overflow": false,
       "plotOptions": {
        "customPlotOptions": {},
        "displayType": "table",
        "pivotAggregation": null,
        "pivotColumns": null,
        "xColumns": null,
        "yColumns": null
       },
       "removedWidgets": [],
       "schema": [
        {
         "metadata": "{}",
         "name": "path",
         "type": "\"string\""
        },
        {
         "metadata": "{}",
         "name": "name",
         "type": "\"string\""
        },
        {
         "metadata": "{}",
         "name": "size",
         "type": "\"long\""
        },
        {
         "metadata": "{}",
         "name": "modificationTime",
         "type": "\"long\""
        }
       ],
       "type": "table"
      }
     },
     "output_type": "display_data"
    }
   ],
   "source": [
    "%fs\n",
    "ls /FileStore/tables/bucketby_id/"
   ]
  },
  {
   "cell_type": "code",
   "execution_count": 0,
   "metadata": {
    "application/vnd.databricks.v1+cell": {
     "cellMetadata": {
      "byteLimit": 2048000,
      "rowLimit": 10000
     },
     "inputWidgets": {},
     "nuid": "62d253c9-ce6b-411b-9e63-599edf799f15",
     "showTitle": false,
     "title": ""
    }
   },
   "outputs": [],
   "source": [
    "my_data=[(1,1),  \n",
    "(2,1),\n",
    "(3,1),\n",
    "(4,2),\n",
    "(5,1),\n",
    "(6,2),\n",
    "(7,2)]"
   ]
  },
  {
   "cell_type": "code",
   "execution_count": 0,
   "metadata": {
    "application/vnd.databricks.v1+cell": {
     "cellMetadata": {
      "byteLimit": 2048000,
      "rowLimit": 10000
     },
     "inputWidgets": {},
     "nuid": "97ebcb5f-5a54-4b01-a9c9-0a9b441a4d1b",
     "showTitle": false,
     "title": ""
    }
   },
   "outputs": [],
   "source": [
    "myschema=('id','count')"
   ]
  },
  {
   "cell_type": "code",
   "execution_count": 0,
   "metadata": {
    "application/vnd.databricks.v1+cell": {
     "cellMetadata": {
      "byteLimit": 2048000,
      "rowLimit": 10000
     },
     "inputWidgets": {},
     "nuid": "61d4827d-6431-4ef6-9d2d-e824d1165fe3",
     "showTitle": false,
     "title": ""
    }
   },
   "outputs": [],
   "source": [
    "mydf=spark.createDataFrame(data=my_data,schema=myschema)"
   ]
  },
  {
   "cell_type": "code",
   "execution_count": 0,
   "metadata": {
    "application/vnd.databricks.v1+cell": {
     "cellMetadata": {
      "byteLimit": 2048000,
      "rowLimit": 10000
     },
     "inputWidgets": {},
     "nuid": "58e405fb-00e9-4ca3-907e-63b03bdb25ab",
     "showTitle": false,
     "title": ""
    }
   },
   "outputs": [
    {
     "output_type": "stream",
     "name": "stdout",
     "output_type": "stream",
     "text": [
      "+---+-----+\n| id|count|\n+---+-----+\n|  1|    1|\n|  2|    1|\n|  3|    1|\n|  4|    2|\n|  5|    1|\n|  6|    2|\n|  7|    2|\n+---+-----+\n\n"
     ]
    }
   ],
   "source": [
    "mydf.show()"
   ]
  },
  {
   "cell_type": "code",
   "execution_count": 0,
   "metadata": {
    "application/vnd.databricks.v1+cell": {
     "cellMetadata": {},
     "inputWidgets": {},
     "nuid": "1e336eca-ca37-4ae0-bd7f-cf664ceeada8",
     "showTitle": false,
     "title": ""
    }
   },
   "outputs": [],
   "source": []
  }
 ],
 "metadata": {
  "application/vnd.databricks.v1+notebook": {
   "dashboards": [],
   "environmentMetadata": null,
   "language": "python",
   "notebookMetadata": {
    "mostRecentlyExecutedCommandWithImplicitDF": {
     "commandId": 3171171237048399,
     "dataframes": [
      "_sqldf"
     ]
    },
    "pythonIndentUnit": 4
   },
   "notebookName": "spark_write_file",
   "widgets": {}
  }
 },
 "nbformat": 4,
 "nbformat_minor": 0
}
