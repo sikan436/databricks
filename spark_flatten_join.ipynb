{
 "cells": [
  {
   "cell_type": "code",
   "execution_count": 0,
   "metadata": {
    "application/vnd.databricks.v1+cell": {
     "cellMetadata": {
      "byteLimit": 2048000,
      "rowLimit": 10000
     },
     "inputWidgets": {},
     "nuid": "2e3c9af5-8b6b-4835-a01d-1541b7066c95",
     "showTitle": false,
     "tableResultSettingsMap": {},
     "title": ""
    }
   },
   "outputs": [],
   "source": [
    "data=['ama','bnb']"
   ]
  },
  {
   "cell_type": "code",
   "execution_count": 0,
   "metadata": {
    "application/vnd.databricks.v1+cell": {
     "cellMetadata": {
      "byteLimit": 2048000,
      "rowLimit": 10000
     },
     "inputWidgets": {},
     "nuid": "81546638-3107-4652-b6e0-fe4d298ca6cc",
     "showTitle": false,
     "tableResultSettingsMap": {},
     "title": ""
    }
   },
   "outputs": [],
   "source": [
    "resturant_json_data=spark.read.format('json')\\\n",
    "          .option('inferschema','True')\\\n",
    "          .option('multiline','True')\\\n",
    "          .load('/FileStore/tables/resturant_json_data.json')\n",
    "          \n",
    "          "
   ]
  },
  {
   "cell_type": "code",
   "execution_count": 0,
   "metadata": {
    "application/vnd.databricks.v1+cell": {
     "cellMetadata": {
      "byteLimit": 2048000,
      "rowLimit": 10000
     },
     "inputWidgets": {},
     "nuid": "fc8d2f18-a586-4181-83ec-d0005b995efc",
     "showTitle": false,
     "tableResultSettingsMap": {},
     "title": ""
    }
   },
   "outputs": [
    {
     "output_type": "stream",
     "name": "stdout",
     "output_type": "stream",
     "text": [
      "+----+-------+--------------------+-------------+-------------+-------------+------+\n|code|message|         restaurants|results_found|results_shown|results_start|status|\n+----+-------+--------------------+-------------+-------------+-------------+------+\n|null|   null|                  []|            0|            0|            1|  null|\n|null|   null|[{{{17066603}, b9...|         6835|           20|            1|  null|\n|null|   null|                  []|            0|            0|            1|  null|\n|null|   null|                  []|            0|            0|            1|  null|\n|null|   null|[{{{17093124}, b9...|         8680|           20|            1|  null|\n|null|   null|                  []|            0|            0|            1|  null|\n|null|   null|                  []|            0|            0|            1|  null|\n|null|   null|[{{{17580142}, b9...|          943|           20|            1|  null|\n|null|   null|                  []|            0|            0|            1|  null|\n|null|   null|                  []|            0|            0|            1|  null|\n|null|   null|[{{{17284158}, b9...|          257|           20|            1|  null|\n|null|   null|                  []|            0|            0|            1|  null|\n|null|   null|                  []|            0|            0|            1|  null|\n|null|   null|[{{{17678233}, b9...|          358|           20|            1|  null|\n|null|   null|                  []|            0|            0|            1|  null|\n|null|   null|                  []|            0|            0|            1|  null|\n|null|   null|[{{{17375047}, b9...|          641|           20|            1|  null|\n|null|   null|                  []|            0|            0|            1|  null|\n|null|   null|                  []|            0|            0|            1|  null|\n|null|   null|[{{{17616590}, b9...|         1613|           20|            1|  null|\n+----+-------+--------------------+-------------+-------------+-------------+------+\nonly showing top 20 rows\n\n"
     ]
    }
   ],
   "source": [
    "resturant_json_data.show()"
   ]
  },
  {
   "cell_type": "code",
   "execution_count": 0,
   "metadata": {
    "application/vnd.databricks.v1+cell": {
     "cellMetadata": {
      "byteLimit": 2048000,
      "rowLimit": 10000
     },
     "inputWidgets": {},
     "nuid": "19739ef0-a34f-410a-90de-1d46404e0f87",
     "showTitle": false,
     "tableResultSettingsMap": {},
     "title": ""
    }
   },
   "outputs": [
    {
     "output_type": "stream",
     "name": "stdout",
     "output_type": "stream",
     "text": [
      "root\n |-- code: long (nullable = true)\n |-- message: string (nullable = true)\n |-- restaurants: array (nullable = true)\n |    |-- element: struct (containsNull = true)\n |    |    |-- restaurant: struct (nullable = true)\n |    |    |    |-- R: struct (nullable = true)\n |    |    |    |    |-- res_id: long (nullable = true)\n |    |    |    |-- apikey: string (nullable = true)\n |    |    |    |-- average_cost_for_two: long (nullable = true)\n |    |    |    |-- cuisines: string (nullable = true)\n |    |    |    |-- currency: string (nullable = true)\n |    |    |    |-- deeplink: string (nullable = true)\n |    |    |    |-- establishment_types: array (nullable = true)\n |    |    |    |    |-- element: string (containsNull = true)\n |    |    |    |-- events_url: string (nullable = true)\n |    |    |    |-- featured_image: string (nullable = true)\n |    |    |    |-- has_online_delivery: long (nullable = true)\n |    |    |    |-- has_table_booking: long (nullable = true)\n |    |    |    |-- id: string (nullable = true)\n |    |    |    |-- is_delivering_now: long (nullable = true)\n |    |    |    |-- location: struct (nullable = true)\n |    |    |    |    |-- address: string (nullable = true)\n |    |    |    |    |-- city: string (nullable = true)\n |    |    |    |    |-- city_id: long (nullable = true)\n |    |    |    |    |-- country_id: long (nullable = true)\n |    |    |    |    |-- latitude: string (nullable = true)\n |    |    |    |    |-- locality: string (nullable = true)\n |    |    |    |    |-- locality_verbose: string (nullable = true)\n |    |    |    |    |-- longitude: string (nullable = true)\n |    |    |    |    |-- zipcode: string (nullable = true)\n |    |    |    |-- menu_url: string (nullable = true)\n |    |    |    |-- name: string (nullable = true)\n |    |    |    |-- offers: array (nullable = true)\n |    |    |    |    |-- element: string (containsNull = true)\n |    |    |    |-- photos_url: string (nullable = true)\n |    |    |    |-- price_range: long (nullable = true)\n |    |    |    |-- switch_to_order_menu: long (nullable = true)\n |    |    |    |-- thumb: string (nullable = true)\n |    |    |    |-- url: string (nullable = true)\n |    |    |    |-- user_rating: struct (nullable = true)\n |    |    |    |    |-- aggregate_rating: string (nullable = true)\n |    |    |    |    |-- rating_color: string (nullable = true)\n |    |    |    |    |-- rating_text: string (nullable = true)\n |    |    |    |    |-- votes: string (nullable = true)\n |-- results_found: long (nullable = true)\n |-- results_shown: long (nullable = true)\n |-- results_start: string (nullable = true)\n |-- status: string (nullable = true)\n\n"
     ]
    }
   ],
   "source": [
    "resturant_json_data.printSchema()"
   ]
  },
  {
   "cell_type": "code",
   "execution_count": 0,
   "metadata": {
    "application/vnd.databricks.v1+cell": {
     "cellMetadata": {
      "byteLimit": 2048000,
      "rowLimit": 10000
     },
     "inputWidgets": {},
     "nuid": "bedeba7b-710d-459f-aefd-12deb8eda73a",
     "showTitle": false,
     "tableResultSettingsMap": {},
     "title": ""
    }
   },
   "outputs": [
    {
     "output_type": "stream",
     "name": "stdout",
     "output_type": "stream",
     "text": [
      "Out[16]: DataFrame[restaurants: array<struct<restaurant:struct<R:struct<res_id:bigint>,apikey:string,average_cost_for_two:bigint,cuisines:string,currency:string,deeplink:string,establishment_types:array<string>,events_url:string,featured_image:string,has_online_delivery:bigint,has_table_booking:bigint,id:string,is_delivering_now:bigint,location:struct<address:string,city:string,city_id:bigint,country_id:bigint,latitude:string,locality:string,locality_verbose:string,longitude:string,zipcode:string>,menu_url:string,name:string,offers:array<string>,photos_url:string,price_range:bigint,switch_to_order_menu:bigint,thumb:string,url:string,user_rating:struct<aggregate_rating:string,rating_color:string,rating_text:string,votes:string>>>>]"
     ]
    }
   ],
   "source": [
    "resturant_json_data.select('restaurants')"
   ]
  },
  {
   "cell_type": "code",
   "execution_count": 0,
   "metadata": {
    "application/vnd.databricks.v1+cell": {
     "cellMetadata": {
      "byteLimit": 2048000,
      "rowLimit": 10000
     },
     "inputWidgets": {},
     "nuid": "5db87649-8c5a-4fa3-a110-a694fdd583ab",
     "showTitle": false,
     "tableResultSettingsMap": {},
     "title": ""
    }
   },
   "outputs": [
    {
     "output_type": "stream",
     "name": "stdout",
     "output_type": "stream",
     "text": [
      "+----+-------+-------------+-------------+-------------+------+--------+-----------------------+--------------------+\n|code|message|results_found|results_shown|results_start|status|  res_id|new_establishment_types|            new_name|\n+----+-------+-------------+-------------+-------------+------+--------+-----------------------+--------------------+\n|null|   null|            0|            0|            1|  null|    null|                   null|                null|\n|null|   null|         6835|           20|            1|  null|17066603|                   null|            The Coop|\n|null|   null|         6835|           20|            1|  null|17059541|                   null|Maggiano's Little...|\n|null|   null|         6835|           20|            1|  null|17064405|                   null|Tako Cheena by Po...|\n|null|   null|         6835|           20|            1|  null|17057797|                   null|Bosphorous Turkis...|\n|null|   null|         6835|           20|            1|  null|17057591|                   null|Bahama Breeze Isl...|\n|null|   null|         6835|           20|            1|  null|17064266|                   null|Hawkers Asian Str...|\n|null|   null|         6835|           20|            1|  null|17060516|                   null|Seasons 52 Fresh ...|\n|null|   null|         6835|           20|            1|  null|17060320|                   null|Raglan Road Irish...|\n|null|   null|         6835|           20|            1|  null|17059060|                   null|           Hillstone|\n|null|   null|         6835|           20|            1|  null|17059012|                   null|Hollerbach's Will...|\n|null|   null|         6835|           20|            1|  null|17060869|                   null|     Texas de Brazil|\n|null|   null|         6835|           20|            1|  null|17061231|                   null|    The Ravenous Pig|\n|null|   null|         6835|           20|            1|  null|17058534|                   null|    Earl of Sandwich|\n|null|   null|         6835|           20|            1|  null|17057925|                   null|    Café Tu Tu Tango|\n|null|   null|         6835|           20|            1|  null|17064031|                   null|Tibby's New Orlea...|\n|null|   null|         6835|           20|            1|  null|17061237|                   null|Cevíche Tapas Bar...|\n|null|   null|         6835|           20|            1|  null|17061253|                   null| Ethos Vegan Kitchen|\n|null|   null|         6835|           20|            1|  null|17061296|                   null|Pom Pom's Teahous...|\n|null|   null|         6835|           20|            1|  null|17061205|                   null|     Yellow Dog Eats|\n+----+-------+-------------+-------------+-------------+------+--------+-----------------------+--------------------+\nonly showing top 20 rows\n\n"
     ]
    }
   ],
   "source": [
    "resturant_json_data.select('*',explode_outer('restaurants').alias('new_restaurant')).drop('restaurants').select('*','new_restaurant.restaurant.R.res_id').select('*',explode_outer('new_restaurant.restaurant.establishment_types').alias('new_establishment_types')).select('*',col('new_restaurant.restaurant.name').alias('new_name')).drop('new_restaurant').show()"
   ]
  },
  {
   "cell_type": "code",
   "execution_count": 0,
   "metadata": {
    "application/vnd.databricks.v1+cell": {
     "cellMetadata": {
      "byteLimit": 2048000,
      "rowLimit": 10000
     },
     "inputWidgets": {},
     "nuid": "844c02b0-6b3d-40ca-9cfc-2f0a1d177579",
     "showTitle": false,
     "tableResultSettingsMap": {},
     "title": ""
    }
   },
   "outputs": [],
   "source": [
    "from pyspark.sql.functions import *\n",
    "from pyspark.sql.types import *"
   ]
  },
  {
   "cell_type": "code",
   "execution_count": 0,
   "metadata": {
    "application/vnd.databricks.v1+cell": {
     "cellMetadata": {
      "byteLimit": 2048000,
      "rowLimit": 10000
     },
     "inputWidgets": {},
     "nuid": "5151e486-7832-4791-a9f7-76643520b3f2",
     "showTitle": false,
     "tableResultSettingsMap": {},
     "title": ""
    }
   },
   "outputs": [],
   "source": [
    "\n",
    "customer_dim_data = [\n",
    "\n",
    "(1,'manish','arwal','india','N','2022-09-15','2022-09-25'),\n",
    "(2,'vikash','patna','india','Y','2023-08-12',None),\n",
    "(3,'nikita','delhi','india','Y','2023-09-10',None),\n",
    "(4,'rakesh','jaipur','india','Y','2023-06-10',None),\n",
    "(5,'ayush','NY','USA','Y','2023-06-10',None),\n",
    "(1,'manish','gurgaon','india','Y','2022-09-25',None),\n",
    "]\n",
    "\n",
    "customer_schema= ['id','name','city','country','active','effective_start_date','effective_end_date']\n",
    "\n",
    "customer_dim_df = spark.createDataFrame(data= customer_dim_data,schema=customer_schema)\n",
    "\n",
    "sales_data = [\n",
    "\n",
    "(1,1,'manish','2023-01-16','gurgaon','india',380),\n",
    "(77,1,'manish','2023-03-11','bangalore','india',300),\n",
    "(12,3,'nikita','2023-09-20','delhi','india',127),\n",
    "(54,4,'rakesh','2023-08-10','jaipur','india',321),\n",
    "(65,5,'ayush','2023-09-07','mosco','russia',765),\n",
    "(89,6,'rajat','2023-08-10','jaipur','india',321)\n",
    "]\n",
    "\n",
    "sales_schema = ['sales_id', 'customer_id','customer_name', 'sales_date', 'food_delivery_address','food_delivery_country', 'food_cost']\n",
    "\n",
    "sales_df = spark.createDataFrame(data=sales_data,schema=sales_schema)"
   ]
  },
  {
   "cell_type": "code",
   "execution_count": 0,
   "metadata": {
    "application/vnd.databricks.v1+cell": {
     "cellMetadata": {
      "byteLimit": 2048000,
      "rowLimit": 10000
     },
     "inputWidgets": {},
     "nuid": "785c0ec6-5967-4346-9af7-eaadb0a095e8",
     "showTitle": false,
     "tableResultSettingsMap": {},
     "title": ""
    }
   },
   "outputs": [
    {
     "output_type": "stream",
     "name": "stdout",
     "output_type": "stream",
     "text": [
      "+---+------+-------+-------+------+--------------------+------------------+\n| id|  name|   city|country|active|effective_start_date|effective_end_date|\n+---+------+-------+-------+------+--------------------+------------------+\n|  1|manish|  arwal|  india|     N|          2022-09-15|        2022-09-25|\n|  2|vikash|  patna|  india|     Y|          2023-08-12|              null|\n|  3|nikita|  delhi|  india|     Y|          2023-09-10|              null|\n|  4|rakesh| jaipur|  india|     Y|          2023-06-10|              null|\n|  5| ayush|     NY|    USA|     Y|          2023-06-10|              null|\n|  1|manish|gurgaon|  india|     Y|          2022-09-25|              null|\n+---+------+-------+-------+------+--------------------+------------------+\n\n"
     ]
    }
   ],
   "source": [
    "customer_dim_df.show()"
   ]
  },
  {
   "cell_type": "code",
   "execution_count": 0,
   "metadata": {
    "application/vnd.databricks.v1+cell": {
     "cellMetadata": {
      "byteLimit": 2048000,
      "rowLimit": 10000
     },
     "inputWidgets": {},
     "nuid": "a2c4e018-f0c7-4628-bdac-a3a0feaf1117",
     "showTitle": false,
     "tableResultSettingsMap": {},
     "title": ""
    }
   },
   "outputs": [
    {
     "output_type": "stream",
     "name": "stdout",
     "output_type": "stream",
     "text": [
      "+--------+-----------+-------------+----------+---------------------+---------------------+---------+\n|sales_id|customer_id|customer_name|sales_date|food_delivery_address|food_delivery_country|food_cost|\n+--------+-----------+-------------+----------+---------------------+---------------------+---------+\n|       1|          1|       manish|2023-01-16|              gurgaon|                india|      380|\n|      77|          1|       manish|2023-03-11|            bangalore|                india|      300|\n|      12|          3|       nikita|2023-09-20|                delhi|                india|      127|\n|      54|          4|       rakesh|2023-08-10|               jaipur|                india|      321|\n|      65|          5|        ayush|2023-09-07|                mosco|               russia|      765|\n|      89|          6|        rajat|2023-08-10|               jaipur|                india|      321|\n+--------+-----------+-------------+----------+---------------------+---------------------+---------+\n\n"
     ]
    }
   ],
   "source": [
    "sales_df.show()"
   ]
  },
  {
   "cell_type": "code",
   "execution_count": 0,
   "metadata": {
    "application/vnd.databricks.v1+cell": {
     "cellMetadata": {},
     "inputWidgets": {},
     "nuid": "53d61d94-43f3-4c47-b583-0154ca2a9b74",
     "showTitle": false,
     "tableResultSettingsMap": {},
     "title": ""
    }
   },
   "outputs": [],
   "source": []
  }
 ],
 "metadata": {
  "application/vnd.databricks.v1+notebook": {
   "dashboards": [],
   "environmentMetadata": null,
   "language": "python",
   "notebookMetadata": {
    "pythonIndentUnit": 4
   },
   "notebookName": "spark_flatten_join",
   "widgets": {}
  }
 },
 "nbformat": 4,
 "nbformat_minor": 0
}
