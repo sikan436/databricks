{
 "cells": [
  {
   "cell_type": "code",
   "execution_count": 0,
   "metadata": {
    "application/vnd.databricks.v1+cell": {
     "cellMetadata": {
      "byteLimit": 2048000,
      "rowLimit": 10000
     },
     "inputWidgets": {},
     "nuid": "7372f882-4d63-484c-b9bb-b5c96ecb44b7",
     "showTitle": false,
     "tableResultSettingsMap": {},
     "title": ""
    }
   },
   "outputs": [
    {
     "output_type": "stream",
     "name": "stdout",
     "output_type": "stream",
     "text": [
      "+-----------------+----------+\n|DEST_COUNTRY_NAME|sum(count)|\n+-----------------+----------+\n|    United States|    384932|\n|            India|        66|\n+-----------------+----------+\n\n"
     ]
    }
   ],
   "source": [
    "df_flight=spark.read.format('csv')\\\n",
    "          .option('inferschema','True')\\\n",
    "          .option('mode','permissive')\\\n",
    "          .option('header','True')\\\n",
    "          .load('/FileStore/tables/2010_summary-1.csv')\n",
    "\n",
    "df_flight=df_flight.repartition(3)\n",
    "\n",
    "df_usa_data=df_flight.filter(col('DEST_COUNTRY_NAME')=='United States')\n",
    "\n",
    "df_usa_india_data=df_flight.filter((col('DEST_COUNTRY_NAME')=='United States') | (col('DEST_COUNTRY_NAME')=='India'))\n",
    "\n",
    "total_flight_ind_sing=df_usa_india_data.groupBy('DEST_COUNTRY_NAME').sum('count')\n",
    "\n",
    "total_flight_ind_sing.show()\n",
    "\n",
    "\n",
    "     "
   ]
  },
  {
   "cell_type": "code",
   "execution_count": 0,
   "metadata": {
    "application/vnd.databricks.v1+cell": {
     "cellMetadata": {
      "byteLimit": 2048000,
      "rowLimit": 10000
     },
     "inputWidgets": {},
     "nuid": "57e02912-55df-4f8b-9abc-2032586890ea",
     "showTitle": false,
     "tableResultSettingsMap": {},
     "title": ""
    }
   },
   "outputs": [],
   "source": [
    "from pyspark.sql.functions import *\n",
    "from pyspark.sql.types import *"
   ]
  },
  {
   "cell_type": "code",
   "execution_count": 0,
   "metadata": {
    "application/vnd.databricks.v1+cell": {
     "cellMetadata": {
      "byteLimit": 2048000,
      "rowLimit": 10000
     },
     "inputWidgets": {},
     "nuid": "35f8ed2a-ed7b-490e-8d95-98f7b0c2f027",
     "showTitle": false,
     "tableResultSettingsMap": {},
     "title": ""
    }
   },
   "outputs": [],
   "source": [
    "df_flight=spark.read.format('csv')\\\n",
    "          .option('inferschema','True')\\\n",
    "          .option('mode','permissive')\\\n",
    "          .option('header','True')\\\n",
    "          .load('/FileStore/tables/2010_summary-1.csv')\n",
    "\n"
   ]
  },
  {
   "cell_type": "code",
   "execution_count": 0,
   "metadata": {
    "application/vnd.databricks.v1+cell": {
     "cellMetadata": {
      "byteLimit": 2048000,
      "rowLimit": 10000
     },
     "inputWidgets": {},
     "nuid": "db5e231d-1087-4fef-a0cb-9306a3c9cf2a",
     "showTitle": false,
     "tableResultSettingsMap": {},
     "title": ""
    }
   },
   "outputs": [],
   "source": []
  }
 ],
 "metadata": {
  "application/vnd.databricks.v1+notebook": {
   "dashboards": [],
   "environmentMetadata": null,
   "language": "python",
   "notebookMetadata": {
    "pythonIndentUnit": 4
   },
   "notebookName": "spark_DAG",
   "widgets": {}
  }
 },
 "nbformat": 4,
 "nbformat_minor": 0
}
